{
 "cells": [
  {
   "cell_type": "markdown",
   "metadata": {},
   "source": [
    "# Setup"
   ]
  },
  {
   "cell_type": "code",
   "execution_count": 98,
   "metadata": {},
   "outputs": [],
   "source": [
    "library(tidyverse)\n",
    "library(caret)\n",
    "\n",
    "library(ranger)\n",
    "library(ropls)"
   ]
  },
  {
   "cell_type": "code",
   "execution_count": 40,
   "metadata": {},
   "outputs": [
    {
     "name": "stdout",
     "output_type": "stream",
     "text": [
      "[1] \"Loading module to 'visutil' and 'vu' (commit: 99fb5453f2040020357d7646e80c2274e9716606)\"\n"
     ]
    },
    {
     "name": "stderr",
     "output_type": "stream",
     "text": [
      "\n",
      "Attaching package: ‘MASS’\n",
      "\n",
      "The following object is masked from ‘package:dplyr’:\n",
      "\n",
      "    select\n",
      "\n"
     ]
    },
    {
     "ename": "ERROR",
     "evalue": "Error: Attempted to create layer with no stat.\n",
     "output_type": "error",
     "traceback": [
      "Error: Attempted to create layer with no stat.\nTraceback:\n",
      "1. source(\"ggcorplot.R\")",
      "2. withVisible(eval(ei, envir))",
      "3. eval(ei, envir)",
      "4. eval(ei, envir)",
      "5. ggcorplot(data = my_data, var_text_size = 30, cor_text_limits = c(2, \n .     30))",
      "6. layer(geom = \"point\", data = z, mapping = aes(x = x, y = y))",
      "7. stop(\"Attempted to create layer with no stat.\", call. = FALSE)"
     ]
    }
   ],
   "source": [
    "source(\"~/src/JupyterRReuse/VisualizationUtils.R\")\n",
    "source(\"ggcorplot.R\")"
   ]
  },
  {
   "cell_type": "code",
   "execution_count": 6,
   "metadata": {},
   "outputs": [
    {
     "name": "stderr",
     "output_type": "stream",
     "text": [
      "Parsed with column specification:\n",
      "cols(\n",
      "  nr = col_integer(),\n",
      "  RI = col_double(),\n",
      "  Na = col_double(),\n",
      "  Mg = col_double(),\n",
      "  Al = col_double(),\n",
      "  Si = col_double(),\n",
      "  K = col_double(),\n",
      "  Ca = col_double(),\n",
      "  Ba = col_double(),\n",
      "  Fe = col_double(),\n",
      "  Type = col_integer()\n",
      ")\n"
     ]
    },
    {
     "data": {
      "text/html": [
       "<table>\n",
       "<thead><tr><th scope=col>nr</th><th scope=col>RI</th><th scope=col>Na</th><th scope=col>Mg</th><th scope=col>Al</th><th scope=col>Si</th><th scope=col>K</th><th scope=col>Ca</th><th scope=col>Ba</th><th scope=col>Fe</th><th scope=col>Type</th></tr></thead>\n",
       "<tbody>\n",
       "\t<tr><td>1      </td><td>1.52101</td><td>13.64  </td><td>4.49   </td><td>1.10   </td><td>71.78  </td><td>0.06   </td><td>8.75   </td><td>0      </td><td>0.00   </td><td>1      </td></tr>\n",
       "\t<tr><td>2      </td><td>1.51761</td><td>13.89  </td><td>3.60   </td><td>1.36   </td><td>72.73  </td><td>0.48   </td><td>7.83   </td><td>0      </td><td>0.00   </td><td>1      </td></tr>\n",
       "\t<tr><td>3      </td><td>1.51618</td><td>13.53  </td><td>3.55   </td><td>1.54   </td><td>72.99  </td><td>0.39   </td><td>7.78   </td><td>0      </td><td>0.00   </td><td>1      </td></tr>\n",
       "\t<tr><td>4      </td><td>1.51766</td><td>13.21  </td><td>3.69   </td><td>1.29   </td><td>72.61  </td><td>0.57   </td><td>8.22   </td><td>0      </td><td>0.00   </td><td>1      </td></tr>\n",
       "\t<tr><td>5      </td><td>1.51742</td><td>13.27  </td><td>3.62   </td><td>1.24   </td><td>73.08  </td><td>0.55   </td><td>8.07   </td><td>0      </td><td>0.00   </td><td>1      </td></tr>\n",
       "\t<tr><td>6      </td><td>1.51596</td><td>12.79  </td><td>3.61   </td><td>1.62   </td><td>72.97  </td><td>0.64   </td><td>8.07   </td><td>0      </td><td>0.26   </td><td>1      </td></tr>\n",
       "</tbody>\n",
       "</table>\n"
      ],
      "text/latex": [
       "\\begin{tabular}{r|lllllllllll}\n",
       " nr & RI & Na & Mg & Al & Si & K & Ca & Ba & Fe & Type\\\\\n",
       "\\hline\n",
       "\t 1       & 1.52101 & 13.64   & 4.49    & 1.10    & 71.78   & 0.06    & 8.75    & 0       & 0.00    & 1      \\\\\n",
       "\t 2       & 1.51761 & 13.89   & 3.60    & 1.36    & 72.73   & 0.48    & 7.83    & 0       & 0.00    & 1      \\\\\n",
       "\t 3       & 1.51618 & 13.53   & 3.55    & 1.54    & 72.99   & 0.39    & 7.78    & 0       & 0.00    & 1      \\\\\n",
       "\t 4       & 1.51766 & 13.21   & 3.69    & 1.29    & 72.61   & 0.57    & 8.22    & 0       & 0.00    & 1      \\\\\n",
       "\t 5       & 1.51742 & 13.27   & 3.62    & 1.24    & 73.08   & 0.55    & 8.07    & 0       & 0.00    & 1      \\\\\n",
       "\t 6       & 1.51596 & 12.79   & 3.61    & 1.62    & 72.97   & 0.64    & 8.07    & 0       & 0.26    & 1      \\\\\n",
       "\\end{tabular}\n"
      ],
      "text/markdown": [
       "\n",
       "nr | RI | Na | Mg | Al | Si | K | Ca | Ba | Fe | Type | \n",
       "|---|---|---|---|---|---|\n",
       "| 1       | 1.52101 | 13.64   | 4.49    | 1.10    | 71.78   | 0.06    | 8.75    | 0       | 0.00    | 1       | \n",
       "| 2       | 1.51761 | 13.89   | 3.60    | 1.36    | 72.73   | 0.48    | 7.83    | 0       | 0.00    | 1       | \n",
       "| 3       | 1.51618 | 13.53   | 3.55    | 1.54    | 72.99   | 0.39    | 7.78    | 0       | 0.00    | 1       | \n",
       "| 4       | 1.51766 | 13.21   | 3.69    | 1.29    | 72.61   | 0.57    | 8.22    | 0       | 0.00    | 1       | \n",
       "| 5       | 1.51742 | 13.27   | 3.62    | 1.24    | 73.08   | 0.55    | 8.07    | 0       | 0.00    | 1       | \n",
       "| 6       | 1.51596 | 12.79   | 3.61    | 1.62    | 72.97   | 0.64    | 8.07    | 0       | 0.26    | 1       | \n",
       "\n",
       "\n"
      ],
      "text/plain": [
       "  nr RI      Na    Mg   Al   Si    K    Ca   Ba Fe   Type\n",
       "1 1  1.52101 13.64 4.49 1.10 71.78 0.06 8.75 0  0.00 1   \n",
       "2 2  1.51761 13.89 3.60 1.36 72.73 0.48 7.83 0  0.00 1   \n",
       "3 3  1.51618 13.53 3.55 1.54 72.99 0.39 7.78 0  0.00 1   \n",
       "4 4  1.51766 13.21 3.69 1.29 72.61 0.57 8.22 0  0.00 1   \n",
       "5 5  1.51742 13.27 3.62 1.24 73.08 0.55 8.07 0  0.00 1   \n",
       "6 6  1.51596 12.79 3.61 1.62 72.97 0.64 8.07 0  0.26 1   "
      ]
     },
     "metadata": {},
     "output_type": "display_data"
    },
    {
     "data": {
      "text/html": [
       "<ol class=list-inline>\n",
       "\t<li>214</li>\n",
       "\t<li>11</li>\n",
       "</ol>\n"
      ],
      "text/latex": [
       "\\begin{enumerate*}\n",
       "\\item 214\n",
       "\\item 11\n",
       "\\end{enumerate*}\n"
      ],
      "text/markdown": [
       "1. 214\n",
       "2. 11\n",
       "\n",
       "\n"
      ],
      "text/plain": [
       "[1] 214  11"
      ]
     },
     "metadata": {},
     "output_type": "display_data"
    }
   ],
   "source": [
    "pre_cols <- c(\"nr\", \"RI\")\n",
    "stone_cols <- c(\"Na\", \"Mg\", \"Al\", \"Si\", \"K\", \"Ca\", \"Ba\", \"Fe\")\n",
    "post_cols <- c(\"Type\")\n",
    "all_cols <- c(pre_cols, stone_cols, post_cols)\n",
    "\n",
    "wide_stones_df <- read_csv(\"glass.data\", col_names = all_cols)\n",
    "head(wide_stones_df)\n",
    "dim(wide_stones_df)"
   ]
  },
  {
   "cell_type": "code",
   "execution_count": 7,
   "metadata": {},
   "outputs": [
    {
     "data": {
      "text/html": [
       "<table>\n",
       "<thead><tr><th scope=col>key</th><th scope=col>value</th></tr></thead>\n",
       "<tbody>\n",
       "\t<tr><td>Na   </td><td>13.64</td></tr>\n",
       "\t<tr><td>Na   </td><td>13.89</td></tr>\n",
       "\t<tr><td>Na   </td><td>13.53</td></tr>\n",
       "\t<tr><td>Na   </td><td>13.21</td></tr>\n",
       "\t<tr><td>Na   </td><td>13.27</td></tr>\n",
       "</tbody>\n",
       "</table>\n"
      ],
      "text/latex": [
       "\\begin{tabular}{r|ll}\n",
       " key & value\\\\\n",
       "\\hline\n",
       "\t Na    & 13.64\\\\\n",
       "\t Na    & 13.89\\\\\n",
       "\t Na    & 13.53\\\\\n",
       "\t Na    & 13.21\\\\\n",
       "\t Na    & 13.27\\\\\n",
       "\\end{tabular}\n"
      ],
      "text/markdown": [
       "\n",
       "key | value | \n",
       "|---|---|---|---|---|\n",
       "| Na    | 13.64 | \n",
       "| Na    | 13.89 | \n",
       "| Na    | 13.53 | \n",
       "| Na    | 13.21 | \n",
       "| Na    | 13.27 | \n",
       "\n",
       "\n"
      ],
      "text/plain": [
       "  key value\n",
       "1 Na  13.64\n",
       "2 Na  13.89\n",
       "3 Na  13.53\n",
       "4 Na  13.21\n",
       "5 Na  13.27"
      ]
     },
     "metadata": {},
     "output_type": "display_data"
    }
   ],
   "source": [
    "long_stones_df <- wide_stones_df %>% select(stone_cols) %>% gather()\n",
    "head(long_stones_df, 5)"
   ]
  },
  {
   "cell_type": "code",
   "execution_count": 8,
   "metadata": {},
   "outputs": [
    {
     "data": {},
     "metadata": {},
     "output_type": "display_data"
    },
    {
     "data": {
      "image/png": "[encoded data removed]",
      "text/plain": [
       "plot without title"
      ]
     },
     "metadata": {},
     "output_type": "display_data"
    }
   ],
   "source": [
    "ggplot(long_stones_df, aes(value)) + geom_histogram(bins=14) + facet_wrap(~key, scales='free_x')"
   ]
  },
  {
   "cell_type": "markdown",
   "metadata": {},
   "source": [
    "# Variable screening\n",
    "\n",
    "Check:\n",
    "\n",
    "* How much correlation do we have?\n",
    "* What is relative importances of variables?"
   ]
  },
  {
   "cell_type": "markdown",
   "metadata": {},
   "source": [
    "### Correlation\n",
    "\n",
    "Some relatively high positive and negative correlations."
   ]
  },
  {
   "cell_type": "code",
   "execution_count": 10,
   "metadata": {},
   "outputs": [
    {
     "data": {
      "text/html": [
       "<table>\n",
       "<thead><tr><th></th><th scope=col>Na</th><th scope=col>Mg</th><th scope=col>Al</th><th scope=col>Si</th><th scope=col>K</th><th scope=col>Ca</th><th scope=col>Ba</th><th scope=col>Fe</th></tr></thead>\n",
       "<tbody>\n",
       "\t<tr><th scope=row>Na</th><td> 1.00000000 </td><td>-0.273731961</td><td> 0.15679367 </td><td>-0.06980881 </td><td>-0.266086504</td><td>-0.2754425  </td><td> 0.32660288 </td><td>-0.241346411</td></tr>\n",
       "\t<tr><th scope=row>Mg</th><td>-0.27373196 </td><td> 1.000000000</td><td>-0.48179851 </td><td>-0.16592672 </td><td> 0.005395667</td><td>-0.4437500  </td><td>-0.49226212 </td><td> 0.083059529</td></tr>\n",
       "\t<tr><th scope=row>Al</th><td> 0.15679367 </td><td>-0.481798509</td><td> 1.00000000 </td><td>-0.00552372 </td><td> 0.325958446</td><td>-0.2595920  </td><td> 0.47940390 </td><td>-0.074402151</td></tr>\n",
       "\t<tr><th scope=row>Si</th><td>-0.06980881 </td><td>-0.165926723</td><td>-0.00552372 </td><td> 1.00000000 </td><td>-0.193330854</td><td>-0.2087322  </td><td>-0.10215131 </td><td>-0.094200731</td></tr>\n",
       "\t<tr><th scope=row>K</th><td>-0.26608650 </td><td> 0.005395667</td><td> 0.32595845 </td><td>-0.19333085 </td><td> 1.000000000</td><td>-0.3178362  </td><td>-0.04261806 </td><td>-0.007719049</td></tr>\n",
       "\t<tr><th scope=row>Ca</th><td>-0.27544249 </td><td>-0.443750026</td><td>-0.25959201 </td><td>-0.20873215 </td><td>-0.317836155</td><td> 1.0000000  </td><td>-0.11284097 </td><td> 0.124968219</td></tr>\n",
       "\t<tr><th scope=row>Ba</th><td> 0.32660288 </td><td>-0.492262118</td><td> 0.47940390 </td><td>-0.10215131 </td><td>-0.042618059</td><td>-0.1128410  </td><td> 1.00000000 </td><td>-0.058691755</td></tr>\n",
       "\t<tr><th scope=row>Fe</th><td>-0.24134641 </td><td> 0.083059529</td><td>-0.07440215 </td><td>-0.09420073 </td><td>-0.007719049</td><td> 0.1249682  </td><td>-0.05869176 </td><td> 1.000000000</td></tr>\n",
       "</tbody>\n",
       "</table>\n"
      ],
      "text/latex": [
       "\\begin{tabular}{r|llllllll}\n",
       "  & Na & Mg & Al & Si & K & Ca & Ba & Fe\\\\\n",
       "\\hline\n",
       "\tNa &  1.00000000  & -0.273731961 &  0.15679367  & -0.06980881  & -0.266086504 & -0.2754425   &  0.32660288  & -0.241346411\\\\\n",
       "\tMg & -0.27373196  &  1.000000000 & -0.48179851  & -0.16592672  &  0.005395667 & -0.4437500   & -0.49226212  &  0.083059529\\\\\n",
       "\tAl &  0.15679367  & -0.481798509 &  1.00000000  & -0.00552372  &  0.325958446 & -0.2595920   &  0.47940390  & -0.074402151\\\\\n",
       "\tSi & -0.06980881  & -0.165926723 & -0.00552372  &  1.00000000  & -0.193330854 & -0.2087322   & -0.10215131  & -0.094200731\\\\\n",
       "\tK & -0.26608650  &  0.005395667 &  0.32595845  & -0.19333085  &  1.000000000 & -0.3178362   & -0.04261806  & -0.007719049\\\\\n",
       "\tCa & -0.27544249  & -0.443750026 & -0.25959201  & -0.20873215  & -0.317836155 &  1.0000000   & -0.11284097  &  0.124968219\\\\\n",
       "\tBa &  0.32660288  & -0.492262118 &  0.47940390  & -0.10215131  & -0.042618059 & -0.1128410   &  1.00000000  & -0.058691755\\\\\n",
       "\tFe & -0.24134641  &  0.083059529 & -0.07440215  & -0.09420073  & -0.007719049 &  0.1249682   & -0.05869176  &  1.000000000\\\\\n",
       "\\end{tabular}\n"
      ],
      "text/markdown": [
       "\n",
       "| <!--/--> | Na | Mg | Al | Si | K | Ca | Ba | Fe | \n",
       "|---|---|---|---|---|---|---|---|\n",
       "| Na |  1.00000000  | -0.273731961 |  0.15679367  | -0.06980881  | -0.266086504 | -0.2754425   |  0.32660288  | -0.241346411 | \n",
       "| Mg | -0.27373196  |  1.000000000 | -0.48179851  | -0.16592672  |  0.005395667 | -0.4437500   | -0.49226212  |  0.083059529 | \n",
       "| Al |  0.15679367  | -0.481798509 |  1.00000000  | -0.00552372  |  0.325958446 | -0.2595920   |  0.47940390  | -0.074402151 | \n",
       "| Si | -0.06980881  | -0.165926723 | -0.00552372  |  1.00000000  | -0.193330854 | -0.2087322   | -0.10215131  | -0.094200731 | \n",
       "| K | -0.26608650  |  0.005395667 |  0.32595845  | -0.19333085  |  1.000000000 | -0.3178362   | -0.04261806  | -0.007719049 | \n",
       "| Ca | -0.27544249  | -0.443750026 | -0.25959201  | -0.20873215  | -0.317836155 |  1.0000000   | -0.11284097  |  0.124968219 | \n",
       "| Ba |  0.32660288  | -0.492262118 |  0.47940390  | -0.10215131  | -0.042618059 | -0.1128410   |  1.00000000  | -0.058691755 | \n",
       "| Fe | -0.24134641  |  0.083059529 | -0.07440215  | -0.09420073  | -0.007719049 |  0.1249682   | -0.05869176  |  1.000000000 | \n",
       "\n",
       "\n"
      ],
      "text/plain": [
       "   Na          Mg           Al          Si          K            Ca        \n",
       "Na  1.00000000 -0.273731961  0.15679367 -0.06980881 -0.266086504 -0.2754425\n",
       "Mg -0.27373196  1.000000000 -0.48179851 -0.16592672  0.005395667 -0.4437500\n",
       "Al  0.15679367 -0.481798509  1.00000000 -0.00552372  0.325958446 -0.2595920\n",
       "Si -0.06980881 -0.165926723 -0.00552372  1.00000000 -0.193330854 -0.2087322\n",
       "K  -0.26608650  0.005395667  0.32595845 -0.19333085  1.000000000 -0.3178362\n",
       "Ca -0.27544249 -0.443750026 -0.25959201 -0.20873215 -0.317836155  1.0000000\n",
       "Ba  0.32660288 -0.492262118  0.47940390 -0.10215131 -0.042618059 -0.1128410\n",
       "Fe -0.24134641  0.083059529 -0.07440215 -0.09420073 -0.007719049  0.1249682\n",
       "   Ba          Fe          \n",
       "Na  0.32660288 -0.241346411\n",
       "Mg -0.49226212  0.083059529\n",
       "Al  0.47940390 -0.074402151\n",
       "Si -0.10215131 -0.094200731\n",
       "K  -0.04261806 -0.007719049\n",
       "Ca -0.11284097  0.124968219\n",
       "Ba  1.00000000 -0.058691755\n",
       "Fe -0.05869176  1.000000000"
      ]
     },
     "metadata": {},
     "output_type": "display_data"
    }
   ],
   "source": [
    "cor_mat <- cor(wide_stones_df %>% select(stone_cols))\n",
    "cor_mat"
   ]
  },
  {
   "cell_type": "code",
   "execution_count": 49,
   "metadata": {},
   "outputs": [
    {
     "data": {
      "text/html": [
       "\n",
       "<table width=\"100%\" summary=\"page for ggcorplot {Deducer}\"><tr><td>ggcorplot {Deducer}</td><td style=\"text-align: right;\">R Documentation</td></tr></table>\n",
       "\n",
       "<h2>\n",
       "Correlation matrix\n",
       "</h2>\n",
       "\n",
       "<h3>Description</h3>\n",
       "\n",
       "<p>Plots a correlation matrix\n",
       "</p>\n",
       "\n",
       "\n",
       "<h3>Usage</h3>\n",
       "\n",
       "<pre>\n",
       "ggcorplot(cor.mat,data=NULL,lines=TRUE,line.method=c(\"lm\",\"loess\"),type=\"points\",\n",
       "\t\talpha=.25,main=\"auto\",var_text_size=5,\n",
       "\t\tcor_text_limits=c(5,25),level=.05)\n",
       "</pre>\n",
       "\n",
       "\n",
       "<h3>Arguments</h3>\n",
       "\n",
       "<table summary=\"R argblock\">\n",
       "<tr valign=\"top\"><td><code>cor.mat</code></td>\n",
       "<td>\n",
       "<p>a <code>cor.matrix</code> object to plot</p>\n",
       "</td></tr>\n",
       "<tr valign=\"top\"><td><code>data</code></td>\n",
       "<td>\n",
       "<p>the data.frame used to compute the correlation matrix</p>\n",
       "</td></tr>\n",
       "<tr valign=\"top\"><td><code>lines</code></td>\n",
       "<td>\n",
       "<p>Logical. Should regression lines be drawn.</p>\n",
       "</td></tr>\n",
       "<tr valign=\"top\"><td><code>type</code></td>\n",
       "<td>\n",
       "<p>type of plot. &quot;points&quot; or &quot;bins&quot;</p>\n",
       "</td></tr>\n",
       "<tr valign=\"top\"><td><code>line.method</code></td>\n",
       "<td>\n",
       "<p>Character. Type of regression line.</p>\n",
       "</td></tr>\n",
       "<tr valign=\"top\"><td><code>alpha</code></td>\n",
       "<td>\n",
       "<p>numeric. level of alpha transparency for the points.</p>\n",
       "</td></tr>\n",
       "<tr valign=\"top\"><td><code>main</code></td>\n",
       "<td>\n",
       "<p>Title of the plot. defaults to the method of cor.mat.</p>\n",
       "</td></tr>\n",
       "<tr valign=\"top\"><td><code>var_text_size</code></td>\n",
       "<td>\n",
       "<p>size of the diagonal variable names.</p>\n",
       "</td></tr>\n",
       "<tr valign=\"top\"><td><code>cor_text_limits</code></td>\n",
       "<td>\n",
       "<p>lower and upper bounds for the size of the correlation text.</p>\n",
       "</td></tr>\n",
       "<tr valign=\"top\"><td><code>level</code></td>\n",
       "<td>\n",
       "<p>the size of the test differentiated by text color.</p>\n",
       "</td></tr>\n",
       "</table>\n",
       "\n",
       "\n",
       "<h3>Author(s)</h3>\n",
       "\n",
       "<p>Mike Lawrence and Ian Fellows\n",
       "</p>\n",
       "\n",
       "\n",
       "<h3>See Also</h3>\n",
       "\n",
       "<p><code>cor.matrix</code>\n",
       "<code>qscatter_array</code>\n",
       "</p>\n",
       "\n",
       "\n",
       "<h3>Examples</h3>\n",
       "\n",
       "<pre>\n",
       "data(mtcars)\n",
       "corr.mat1&lt;-cor.matrix(variables=d(mpg,carb,carb+rnorm(length(carb))),,\n",
       "\t data=mtcars,\n",
       "\t test=cor.test,\n",
       "\t method='spearman',\n",
       "\talternative=\"two.sided\",exact=FALSE)\n",
       "\t\n",
       "p&lt;-ggcorplot(corr.mat1,data = mtcars)\n",
       "print(p)\n",
       "## Not run: \n",
       "\n",
       "has.hex&lt;-require(\"hexbin\")\n",
       "if(has.hex){\n",
       "\tdata(diamonds)\n",
       "\tcorr.mat&lt;-cor.matrix(variables=d(price,carat,color),,\n",
       "\t\t data=diamonds,\n",
       "\t\t test=cor.test,\n",
       "\t\t method='spearman',\n",
       "\t\talternative=\"two.sided\")\n",
       "\n",
       "\tp1 &lt;- ggcorplot(cor.mat=corr.mat,data=diamonds,type=\"bins\",\n",
       "\t\tcor_text_limits=c(5,15),\n",
       "\t\tlines=FALSE)\n",
       "\tprint(p1)\n",
       "\trm('corr.mat')\n",
       "\n",
       "}\n",
       "\n",
       "## End(Not run)\n",
       "\n",
       "</pre>\n",
       "\n",
       "<hr /><div style=\"text-align: center;\">[Package <em>Deducer</em> version 0.7-9 ]</div>"
      ],
      "text/latex": [
       "\\inputencoding{utf8}\n",
       "\\HeaderA{ggcorplot}{Correlation matrix}{ggcorplot}\n",
       "%\n",
       "\\begin{Description}\\relax\n",
       "Plots a correlation matrix\n",
       "\\end{Description}\n",
       "%\n",
       "\\begin{Usage}\n",
       "\\begin{verbatim}\n",
       "ggcorplot(cor.mat,data=NULL,lines=TRUE,line.method=c(\"lm\",\"loess\"),type=\"points\",\n",
       "\t\talpha=.25,main=\"auto\",var_text_size=5,\n",
       "\t\tcor_text_limits=c(5,25),level=.05)\n",
       "\\end{verbatim}\n",
       "\\end{Usage}\n",
       "%\n",
       "\\begin{Arguments}\n",
       "\\begin{ldescription}\n",
       "\\item[\\code{cor.mat}] a \\code{cor.matrix} object to plot\n",
       "\\item[\\code{data}] the data.frame used to compute the correlation matrix\n",
       "\\item[\\code{lines}] Logical. Should regression lines be drawn.\n",
       "\\item[\\code{type}] type of plot. \"points\" or \"bins\"\n",
       "\\item[\\code{line.method}] Character. Type of regression line.\n",
       "\\item[\\code{alpha}] numeric. level of alpha transparency for the points.\n",
       "\\item[\\code{main}] Title of the plot. defaults to the method of cor.mat.\n",
       "\\item[\\code{var\\_text\\_size}] size of the diagonal variable names.\n",
       "\\item[\\code{cor\\_text\\_limits}] lower and upper bounds for the size of the correlation text.\n",
       "\\item[\\code{level}] the size of the test differentiated by text color.\n",
       "\n",
       "\\end{ldescription}\n",
       "\\end{Arguments}\n",
       "%\n",
       "\\begin{Author}\\relax\n",
       "Mike Lawrence and Ian Fellows\n",
       "\\end{Author}\n",
       "%\n",
       "\\begin{SeeAlso}\\relax\n",
       "\\code{\\LinkA{cor.matrix}{cor.matrix}}\n",
       "\\code{\\LinkA{qscatter\\_array}{qscatter.Rul.array}}\n",
       "\\end{SeeAlso}\n",
       "%\n",
       "\\begin{Examples}\n",
       "\\begin{ExampleCode}\n",
       "data(mtcars)\n",
       "corr.mat1<-cor.matrix(variables=d(mpg,carb,carb+rnorm(length(carb))),,\n",
       "\t data=mtcars,\n",
       "\t test=cor.test,\n",
       "\t method='spearman',\n",
       "\talternative=\"two.sided\",exact=FALSE)\n",
       "\t\n",
       "p<-ggcorplot(corr.mat1,data = mtcars)\n",
       "print(p)\n",
       "## Not run: \n",
       "\n",
       "has.hex<-require(\"hexbin\")\n",
       "if(has.hex){\n",
       "\tdata(diamonds)\n",
       "\tcorr.mat<-cor.matrix(variables=d(price,carat,color),,\n",
       "\t\t data=diamonds,\n",
       "\t\t test=cor.test,\n",
       "\t\t method='spearman',\n",
       "\t\talternative=\"two.sided\")\n",
       "\n",
       "\tp1 <- ggcorplot(cor.mat=corr.mat,data=diamonds,type=\"bins\",\n",
       "\t\tcor_text_limits=c(5,15),\n",
       "\t\tlines=FALSE)\n",
       "\tprint(p1)\n",
       "\trm('corr.mat')\n",
       "\n",
       "}\n",
       "\n",
       "## End(Not run)\n",
       "\n",
       "\\end{ExampleCode}\n",
       "\\end{Examples}"
      ],
      "text/plain": [
       "ggcorplot               package:Deducer                R Documentation\n",
       "\n",
       "_\bC_\bo_\br_\br_\be_\bl_\ba_\bt_\bi_\bo_\bn _\bm_\ba_\bt_\br_\bi_\bx\n",
       "\n",
       "_\bD_\be_\bs_\bc_\br_\bi_\bp_\bt_\bi_\bo_\bn:\n",
       "\n",
       "     Plots a correlation matrix\n",
       "\n",
       "_\bU_\bs_\ba_\bg_\be:\n",
       "\n",
       "     ggcorplot(cor.mat,data=NULL,lines=TRUE,line.method=c(\"lm\",\"loess\"),type=\"points\",\n",
       "                     alpha=.25,main=\"auto\",var_text_size=5,\n",
       "                     cor_text_limits=c(5,25),level=.05)\n",
       "     \n",
       "_\bA_\br_\bg_\bu_\bm_\be_\bn_\bt_\bs:\n",
       "\n",
       " cor.mat: a ‘cor.matrix’ object to plot\n",
       "\n",
       "    data: the data.frame used to compute the correlation matrix\n",
       "\n",
       "   lines: Logical. Should regression lines be drawn.\n",
       "\n",
       "    type: type of plot. \"points\" or \"bins\"\n",
       "\n",
       "line.method: Character. Type of regression line.\n",
       "\n",
       "   alpha: numeric. level of alpha transparency for the points.\n",
       "\n",
       "    main: Title of the plot. defaults to the method of cor.mat.\n",
       "\n",
       "var_text_size: size of the diagonal variable names.\n",
       "\n",
       "cor_text_limits: lower and upper bounds for the size of the correlation\n",
       "          text.\n",
       "\n",
       "   level: the size of the test differentiated by text color.\n",
       "\n",
       "_\bA_\bu_\bt_\bh_\bo_\br(_\bs):\n",
       "\n",
       "     Mike Lawrence and Ian Fellows\n",
       "\n",
       "_\bS_\be_\be _\bA_\bl_\bs_\bo:\n",
       "\n",
       "     ‘cor.matrix’ ‘qscatter_array’\n",
       "\n",
       "_\bE_\bx_\ba_\bm_\bp_\bl_\be_\bs:\n",
       "\n",
       "     data(mtcars)\n",
       "     corr.mat1<-cor.matrix(variables=d(mpg,carb,carb+rnorm(length(carb))),,\n",
       "              data=mtcars,\n",
       "              test=cor.test,\n",
       "              method='spearman',\n",
       "             alternative=\"two.sided\",exact=FALSE)\n",
       "             \n",
       "     p<-ggcorplot(corr.mat1,data = mtcars)\n",
       "     print(p)\n",
       "     ## Not run:\n",
       "     \n",
       "     \n",
       "     has.hex<-require(\"hexbin\")\n",
       "     if(has.hex){\n",
       "             data(diamonds)\n",
       "             corr.mat<-cor.matrix(variables=d(price,carat,color),,\n",
       "                      data=diamonds,\n",
       "                      test=cor.test,\n",
       "                      method='spearman',\n",
       "                     alternative=\"two.sided\")\n",
       "     \n",
       "             p1 <- ggcorplot(cor.mat=corr.mat,data=diamonds,type=\"bins\",\n",
       "                     cor_text_limits=c(5,15),\n",
       "                     lines=FALSE)\n",
       "             print(p1)\n",
       "             rm('corr.mat')\n",
       "     \n",
       "     }\n",
       "     ## End(Not run)\n",
       "     "
      ]
     },
     "metadata": {},
     "output_type": "display_data"
    }
   ],
   "source": [
    "?Deducer::ggcorplot"
   ]
  },
  {
   "cell_type": "code",
   "execution_count": 51,
   "metadata": {},
   "outputs": [
    {
     "data": {
      "text/html": [
       "<table>\n",
       "<thead><tr><th></th><th scope=col>Na</th><th scope=col>Mg</th><th scope=col>Al</th><th scope=col>Si</th><th scope=col>K</th><th scope=col>Ca</th><th scope=col>Ba</th><th scope=col>Fe</th></tr></thead>\n",
       "<tbody>\n",
       "\t<tr><th scope=row>Na</th><td> 1.00000000 </td><td>-0.273731961</td><td> 0.15679367 </td><td>-0.06980881 </td><td>-0.266086504</td><td>-0.2754425  </td><td> 0.32660288 </td><td>-0.241346411</td></tr>\n",
       "\t<tr><th scope=row>Mg</th><td>-0.27373196 </td><td> 1.000000000</td><td>-0.48179851 </td><td>-0.16592672 </td><td> 0.005395667</td><td>-0.4437500  </td><td>-0.49226212 </td><td> 0.083059529</td></tr>\n",
       "\t<tr><th scope=row>Al</th><td> 0.15679367 </td><td>-0.481798509</td><td> 1.00000000 </td><td>-0.00552372 </td><td> 0.325958446</td><td>-0.2595920  </td><td> 0.47940390 </td><td>-0.074402151</td></tr>\n",
       "\t<tr><th scope=row>Si</th><td>-0.06980881 </td><td>-0.165926723</td><td>-0.00552372 </td><td> 1.00000000 </td><td>-0.193330854</td><td>-0.2087322  </td><td>-0.10215131 </td><td>-0.094200731</td></tr>\n",
       "\t<tr><th scope=row>K</th><td>-0.26608650 </td><td> 0.005395667</td><td> 0.32595845 </td><td>-0.19333085 </td><td> 1.000000000</td><td>-0.3178362  </td><td>-0.04261806 </td><td>-0.007719049</td></tr>\n",
       "\t<tr><th scope=row>Ca</th><td>-0.27544249 </td><td>-0.443750026</td><td>-0.25959201 </td><td>-0.20873215 </td><td>-0.317836155</td><td> 1.0000000  </td><td>-0.11284097 </td><td> 0.124968219</td></tr>\n",
       "</tbody>\n",
       "</table>\n"
      ],
      "text/latex": [
       "\\begin{tabular}{r|llllllll}\n",
       "  & Na & Mg & Al & Si & K & Ca & Ba & Fe\\\\\n",
       "\\hline\n",
       "\tNa &  1.00000000  & -0.273731961 &  0.15679367  & -0.06980881  & -0.266086504 & -0.2754425   &  0.32660288  & -0.241346411\\\\\n",
       "\tMg & -0.27373196  &  1.000000000 & -0.48179851  & -0.16592672  &  0.005395667 & -0.4437500   & -0.49226212  &  0.083059529\\\\\n",
       "\tAl &  0.15679367  & -0.481798509 &  1.00000000  & -0.00552372  &  0.325958446 & -0.2595920   &  0.47940390  & -0.074402151\\\\\n",
       "\tSi & -0.06980881  & -0.165926723 & -0.00552372  &  1.00000000  & -0.193330854 & -0.2087322   & -0.10215131  & -0.094200731\\\\\n",
       "\tK & -0.26608650  &  0.005395667 &  0.32595845  & -0.19333085  &  1.000000000 & -0.3178362   & -0.04261806  & -0.007719049\\\\\n",
       "\tCa & -0.27544249  & -0.443750026 & -0.25959201  & -0.20873215  & -0.317836155 &  1.0000000   & -0.11284097  &  0.124968219\\\\\n",
       "\\end{tabular}\n"
      ],
      "text/markdown": [
       "\n",
       "| <!--/--> | Na | Mg | Al | Si | K | Ca | Ba | Fe | \n",
       "|---|---|---|---|---|---|\n",
       "| Na |  1.00000000  | -0.273731961 |  0.15679367  | -0.06980881  | -0.266086504 | -0.2754425   |  0.32660288  | -0.241346411 | \n",
       "| Mg | -0.27373196  |  1.000000000 | -0.48179851  | -0.16592672  |  0.005395667 | -0.4437500   | -0.49226212  |  0.083059529 | \n",
       "| Al |  0.15679367  | -0.481798509 |  1.00000000  | -0.00552372  |  0.325958446 | -0.2595920   |  0.47940390  | -0.074402151 | \n",
       "| Si | -0.06980881  | -0.165926723 | -0.00552372  |  1.00000000  | -0.193330854 | -0.2087322   | -0.10215131  | -0.094200731 | \n",
       "| K | -0.26608650  |  0.005395667 |  0.32595845  | -0.19333085  |  1.000000000 | -0.3178362   | -0.04261806  | -0.007719049 | \n",
       "| Ca | -0.27544249  | -0.443750026 | -0.25959201  | -0.20873215  | -0.317836155 |  1.0000000   | -0.11284097  |  0.124968219 | \n",
       "\n",
       "\n"
      ],
      "text/plain": [
       "   Na          Mg           Al          Si          K            Ca        \n",
       "Na  1.00000000 -0.273731961  0.15679367 -0.06980881 -0.266086504 -0.2754425\n",
       "Mg -0.27373196  1.000000000 -0.48179851 -0.16592672  0.005395667 -0.4437500\n",
       "Al  0.15679367 -0.481798509  1.00000000 -0.00552372  0.325958446 -0.2595920\n",
       "Si -0.06980881 -0.165926723 -0.00552372  1.00000000 -0.193330854 -0.2087322\n",
       "K  -0.26608650  0.005395667  0.32595845 -0.19333085  1.000000000 -0.3178362\n",
       "Ca -0.27544249 -0.443750026 -0.25959201 -0.20873215 -0.317836155  1.0000000\n",
       "   Ba          Fe          \n",
       "Na  0.32660288 -0.241346411\n",
       "Mg -0.49226212  0.083059529\n",
       "Al  0.47940390 -0.074402151\n",
       "Si -0.10215131 -0.094200731\n",
       "K  -0.04261806 -0.007719049\n",
       "Ca -0.11284097  0.124968219"
      ]
     },
     "metadata": {},
     "output_type": "display_data"
    }
   ],
   "source": [
    "head(cor_mat)"
   ]
  },
  {
   "cell_type": "code",
   "execution_count": 52,
   "metadata": {},
   "outputs": [
    {
     "data": {
      "text/html": [
       "<pre class=language-r><code>function (cor.mat, data = NULL, lines = TRUE, line.method = c(\"lm\", \n",
       "<span style=white-space:pre-wrap>    \"loess\"), type = \"points\", alpha = 0.25, main = \"auto\", var_text_size = 5, </span>\n",
       "<span style=white-space:pre-wrap>    cor_text_limits = c(5, 25), level = 0.05) </span>\n",
       "{\n",
       "<span style=white-space:pre-wrap>    x_var &lt;- y_var &lt;- trans &lt;- rsq &lt;- p &lt;- x_label &lt;- NULL</span>\n",
       "<span style=white-space:pre-wrap>    ezLev &lt;- function(x, new_order) {</span>\n",
       "<span style=white-space:pre-wrap>        for (i in rev(new_order)) {</span>\n",
       "<span style=white-space:pre-wrap>            x &lt;- relevel(x, ref = i)</span>\n",
       "<span style=white-space:pre-wrap>        }</span>\n",
       "<span style=white-space:pre-wrap>        return(x)</span>\n",
       "<span style=white-space:pre-wrap>    }</span>\n",
       "<span style=white-space:pre-wrap>    if (all(line.method == c(\"lm\", \"loess\"))) </span>\n",
       "<span style=white-space:pre-wrap>        line.method &lt;- \"lm\"</span>\n",
       "<span style=white-space:pre-wrap>    nm &lt;- names(cor.mat)</span>\n",
       "<span style=white-space:pre-wrap>    for (i in 1:length(nm)) dat &lt;- if (i == 1) </span>\n",
       "<span style=white-space:pre-wrap>        d(eval(parse(text = nm[i]), data, parent.frame()))</span>\n",
       "<span style=white-space:pre-wrap>    else d(dat, eval(parse(text = nm[i]), data, parent.frame()))</span>\n",
       "<span style=white-space:pre-wrap>    data &lt;- dat</span>\n",
       "<span style=white-space:pre-wrap>    names(data) &lt;- nm</span>\n",
       "<span style=white-space:pre-wrap>    for (i in 1:length(data)) {</span>\n",
       "<span style=white-space:pre-wrap>        data[, i] &lt;- as.numeric(data[, i])</span>\n",
       "<span style=white-space:pre-wrap>        data[, i] &lt;- (data[, i] - mean(data[, i], na.rm = TRUE))/sd(data[, </span>\n",
       "<span style=white-space:pre-wrap>            i], na.rm = TRUE)</span>\n",
       "<span style=white-space:pre-wrap>    }</span>\n",
       "<span style=white-space:pre-wrap>    z &lt;- data.frame()</span>\n",
       "<span style=white-space:pre-wrap>    i &lt;- 1</span>\n",
       "<span style=white-space:pre-wrap>    j &lt;- i</span>\n",
       "<span style=white-space:pre-wrap>    while (i &lt;= length(data)) {</span>\n",
       "<span style=white-space:pre-wrap>        if (j &gt; length(data)) {</span>\n",
       "<span style=white-space:pre-wrap>            i &lt;- i + 1</span>\n",
       "<span style=white-space:pre-wrap>            j &lt;- i</span>\n",
       "<span style=white-space:pre-wrap>        }</span>\n",
       "<span style=white-space:pre-wrap>        else {</span>\n",
       "<span style=white-space:pre-wrap>            x &lt;- data[, i]</span>\n",
       "<span style=white-space:pre-wrap>            y &lt;- data[, j]</span>\n",
       "<span style=white-space:pre-wrap>            temp &lt;- as.data.frame((cbind(x, y)))</span>\n",
       "<span style=white-space:pre-wrap>            temp &lt;- cbind(temp, names(data)[i], names(data)[j])</span>\n",
       "<span style=white-space:pre-wrap>            z &lt;- rbind(z, temp)</span>\n",
       "<span style=white-space:pre-wrap>            j &lt;- j + 1</span>\n",
       "<span style=white-space:pre-wrap>        }</span>\n",
       "<span style=white-space:pre-wrap>    }</span>\n",
       "<span style=white-space:pre-wrap>    z &lt;- cbind(z, alpha)</span>\n",
       "<span style=white-space:pre-wrap>    names(z) = c(\"x_var\", \"y_var\", \"x_label\", \"y_label\", \"trans\")</span>\n",
       "<span style=white-space:pre-wrap>    z$x_label &lt;- ezLev(factor(z$x_label), names(data))</span>\n",
       "<span style=white-space:pre-wrap>    z$y_label &lt;- ezLev(factor(z$y_label), names(data))</span>\n",
       "<span style=white-space:pre-wrap>    z = z[z$x_label != z$y_label, ]</span>\n",
       "<span style=white-space:pre-wrap>    z_cor &lt;- data.frame()</span>\n",
       "<span style=white-space:pre-wrap>    i &lt;- 1</span>\n",
       "<span style=white-space:pre-wrap>    j &lt;- i</span>\n",
       "<span style=white-space:pre-wrap>    while (i &lt;= length(data)) {</span>\n",
       "<span style=white-space:pre-wrap>        if (j &gt; length(data)) {</span>\n",
       "<span style=white-space:pre-wrap>            i &lt;- i + 1</span>\n",
       "<span style=white-space:pre-wrap>            j &lt;- i</span>\n",
       "<span style=white-space:pre-wrap>        }</span>\n",
       "<span style=white-space:pre-wrap>        else {</span>\n",
       "<span style=white-space:pre-wrap>            x &lt;- na.omit(data[, i])</span>\n",
       "<span style=white-space:pre-wrap>            y &lt;- na.omit(data[, j])</span>\n",
       "<span style=white-space:pre-wrap>            x_mid &lt;- min(x) + diff(range(x))/2</span>\n",
       "<span style=white-space:pre-wrap>            y_mid &lt;- min(y) + diff(range(y))/2</span>\n",
       "<span style=white-space:pre-wrap>            this_cor &lt;- cor.mat[[i]][[j]]$estimate</span>\n",
       "<span style=white-space:pre-wrap>            this_cor.test &lt;- cor.mat[[i]][[j]]</span>\n",
       "<span style=white-space:pre-wrap>            this_col &lt;- ifelse(this_cor.test$p.value &lt; level, </span>\n",
       "<span style=white-space:pre-wrap>                \"red\", \"blue\")</span>\n",
       "<span style=white-space:pre-wrap>            this_size &lt;- (this_cor)^2</span>\n",
       "<span style=white-space:pre-wrap>            cor_text &lt;- ifelse(this_cor &gt; 0, substr(format(c(this_cor, </span>\n",
       "<span style=white-space:pre-wrap>                0.123456789), digits = 2)[1], 2, 4), paste(\"-\", </span>\n",
       "<span style=white-space:pre-wrap>                substr(format(c(this_cor, 0.123456789), digits = 2)[1], </span>\n",
       "<span style=white-space:pre-wrap>                  3, 5), sep = \"\"))</span>\n",
       "<span style=white-space:pre-wrap>            b &lt;- as.data.frame(cor_text)</span>\n",
       "<span style=white-space:pre-wrap>            b &lt;- cbind(b, x_mid, y_mid, this_col, this_size, </span>\n",
       "<span style=white-space:pre-wrap>                names(data)[j], names(data)[i])</span>\n",
       "<span style=white-space:pre-wrap>            z_cor &lt;- rbind(z_cor, b)</span>\n",
       "<span style=white-space:pre-wrap>            j &lt;- j + 1</span>\n",
       "<span style=white-space:pre-wrap>        }</span>\n",
       "<span style=white-space:pre-wrap>    }</span>\n",
       "<span style=white-space:pre-wrap>    names(z_cor) &lt;- c(\"cor\", \"x_mid\", \"y_mid\", \"p\", \"rsq\", \"x_label\", </span>\n",
       "<span style=white-space:pre-wrap>        \"y_label\")</span>\n",
       "<span style=white-space:pre-wrap>    z_cor$x_label &lt;- ezLev(factor(z_cor$x_label), names(data))</span>\n",
       "<span style=white-space:pre-wrap>    z_cor$y_label &lt;- ezLev(factor(z_cor$y_label), names(data))</span>\n",
       "<span style=white-space:pre-wrap>    diag &lt;- z_cor[z_cor$x_label == z_cor$y_label, ]</span>\n",
       "<span style=white-space:pre-wrap>    z_cor &lt;- z_cor[z_cor$x_label != z_cor$y_label, ]</span>\n",
       "<span style=white-space:pre-wrap>    points_layer &lt;- geom_point(aes(x = x_var, y = y_var, alpha = trans), </span>\n",
       "<span style=white-space:pre-wrap>        data = z)</span>\n",
       "<span style=white-space:pre-wrap>    bin_layer &lt;- geom_hex(data = z, mapping = aes(x = x_var, </span>\n",
       "<span style=white-space:pre-wrap>        y = y_var, alpha = trans), bins = 10)</span>\n",
       "<span style=white-space:pre-wrap>    lm_line_layer &lt;- stat_smooth(aes(x = x_var, y = y_var), method = line.method)</span>\n",
       "<span style=white-space:pre-wrap>    cor_text &lt;- geom_text(aes(x = y_mid, y = x_mid, label = cor, </span>\n",
       "<span style=white-space:pre-wrap>        size = rsq, colour = p), data = z_cor)</span>\n",
       "<span style=white-space:pre-wrap>    var_text &lt;- geom_text(aes(x = y_mid, y = x_mid, label = x_label), </span>\n",
       "<span style=white-space:pre-wrap>        data = diag, size = var_text_size)</span>\n",
       "<span style=white-space:pre-wrap>    f &lt;- facet_grid(y_label ~ x_label, scales = \"free\")</span>\n",
       "<span style=white-space:pre-wrap>    o &lt;- theme(panel.grid.minor = element_blank(), panel.grid.major = element_blank(), </span>\n",
       "<span style=white-space:pre-wrap>        axis.ticks = element_blank(), axis.text.y = element_blank(), </span>\n",
       "<span style=white-space:pre-wrap>        axis.text.x = element_blank(), axis.title.y = element_blank(), </span>\n",
       "<span style=white-space:pre-wrap>        axis.title.x = element_blank(), legend.position = \"none\")</span>\n",
       "<span style=white-space:pre-wrap>    size_scale &lt;- scale_size(limits = c(0, 1), range = cor_text_limits)</span>\n",
       "<span style=white-space:pre-wrap>    the.plot &lt;- ggplot(data = z)</span>\n",
       "<span style=white-space:pre-wrap>    if (type == \"bins\") </span>\n",
       "<span style=white-space:pre-wrap>        the.plot &lt;- the.plot + bin_layer</span>\n",
       "<span style=white-space:pre-wrap>    else if (type == \"points\") </span>\n",
       "<span style=white-space:pre-wrap>        the.plot &lt;- the.plot + points_layer + scale_alpha_identity()</span>\n",
       "<span style=white-space:pre-wrap>    the.plot &lt;- the.plot + var_text + cor_text + f + o + size_scale</span>\n",
       "<span style=white-space:pre-wrap>    if (type == \"bins\") </span>\n",
       "<span style=white-space:pre-wrap>        the.plot &lt;- the.plot + scale_fill_gradient(low = \"grey\", </span>\n",
       "<span style=white-space:pre-wrap>            high = \"black\")</span>\n",
       "<span style=white-space:pre-wrap>    if (lines) </span>\n",
       "<span style=white-space:pre-wrap>        the.plot &lt;- the.plot + lm_line_layer</span>\n",
       "<span style=white-space:pre-wrap>    if (main == \"auto\") </span>\n",
       "<span style=white-space:pre-wrap>        main &lt;- cor.mat[[1]][[1]]$method</span>\n",
       "<span style=white-space:pre-wrap>    the.plot &lt;- the.plot + ggtitle(main)</span>\n",
       "<span style=white-space:pre-wrap>    return(the.plot)</span>\n",
       "}</code></pre>"
      ],
      "text/latex": [
       "\\begin{minted}{r}\n",
       "function (cor.mat, data = NULL, lines = TRUE, line.method = c(\"lm\", \n",
       "    \"loess\"), type = \"points\", alpha = 0.25, main = \"auto\", var\\_text\\_size = 5, \n",
       "    cor\\_text\\_limits = c(5, 25), level = 0.05) \n",
       "\\{\n",
       "    x\\_var <- y\\_var <- trans <- rsq <- p <- x\\_label <- NULL\n",
       "    ezLev <- function(x, new\\_order) \\{\n",
       "        for (i in rev(new\\_order)) \\{\n",
       "            x <- relevel(x, ref = i)\n",
       "        \\}\n",
       "        return(x)\n",
       "    \\}\n",
       "    if (all(line.method == c(\"lm\", \"loess\"))) \n",
       "        line.method <- \"lm\"\n",
       "    nm <- names(cor.mat)\n",
       "    for (i in 1:length(nm)) dat <- if (i == 1) \n",
       "        d(eval(parse(text = nm{[}i{]}), data, parent.frame()))\n",
       "    else d(dat, eval(parse(text = nm{[}i{]}), data, parent.frame()))\n",
       "    data <- dat\n",
       "    names(data) <- nm\n",
       "    for (i in 1:length(data)) \\{\n",
       "        data{[}, i{]} <- as.numeric(data{[}, i{]})\n",
       "        data{[}, i{]} <- (data{[}, i{]} - mean(data{[}, i{]}, na.rm = TRUE))/sd(data{[}, \n",
       "            i{]}, na.rm = TRUE)\n",
       "    \\}\n",
       "    z <- data.frame()\n",
       "    i <- 1\n",
       "    j <- i\n",
       "    while (i <= length(data)) \\{\n",
       "        if (j > length(data)) \\{\n",
       "            i <- i + 1\n",
       "            j <- i\n",
       "        \\}\n",
       "        else \\{\n",
       "            x <- data{[}, i{]}\n",
       "            y <- data{[}, j{]}\n",
       "            temp <- as.data.frame((cbind(x, y)))\n",
       "            temp <- cbind(temp, names(data){[}i{]}, names(data){[}j{]})\n",
       "            z <- rbind(z, temp)\n",
       "            j <- j + 1\n",
       "        \\}\n",
       "    \\}\n",
       "    z <- cbind(z, alpha)\n",
       "    names(z) = c(\"x\\_var\", \"y\\_var\", \"x\\_label\", \"y\\_label\", \"trans\")\n",
       "    z\\$x\\_label <- ezLev(factor(z\\$x\\_label), names(data))\n",
       "    z\\$y\\_label <- ezLev(factor(z\\$y\\_label), names(data))\n",
       "    z = z{[}z\\$x\\_label != z\\$y\\_label, {]}\n",
       "    z\\_cor <- data.frame()\n",
       "    i <- 1\n",
       "    j <- i\n",
       "    while (i <= length(data)) \\{\n",
       "        if (j > length(data)) \\{\n",
       "            i <- i + 1\n",
       "            j <- i\n",
       "        \\}\n",
       "        else \\{\n",
       "            x <- na.omit(data{[}, i{]})\n",
       "            y <- na.omit(data{[}, j{]})\n",
       "            x\\_mid <- min(x) + diff(range(x))/2\n",
       "            y\\_mid <- min(y) + diff(range(y))/2\n",
       "            this\\_cor <- cor.mat{[}{[}i{]}{]}{[}{[}j{]}{]}\\$estimate\n",
       "            this\\_cor.test <- cor.mat{[}{[}i{]}{]}{[}{[}j{]}{]}\n",
       "            this\\_col <- ifelse(this\\_cor.test\\$p.value < level, \n",
       "                \"red\", \"blue\")\n",
       "            this\\_size <- (this\\_cor)\\textasciicircum{}2\n",
       "            cor\\_text <- ifelse(this\\_cor > 0, substr(format(c(this\\_cor, \n",
       "                0.123456789), digits = 2){[}1{]}, 2, 4), paste(\"-\", \n",
       "                substr(format(c(this\\_cor, 0.123456789), digits = 2){[}1{]}, \n",
       "                  3, 5), sep = \"\"))\n",
       "            b <- as.data.frame(cor\\_text)\n",
       "            b <- cbind(b, x\\_mid, y\\_mid, this\\_col, this\\_size, \n",
       "                names(data){[}j{]}, names(data){[}i{]})\n",
       "            z\\_cor <- rbind(z\\_cor, b)\n",
       "            j <- j + 1\n",
       "        \\}\n",
       "    \\}\n",
       "    names(z\\_cor) <- c(\"cor\", \"x\\_mid\", \"y\\_mid\", \"p\", \"rsq\", \"x\\_label\", \n",
       "        \"y\\_label\")\n",
       "    z\\_cor\\$x\\_label <- ezLev(factor(z\\_cor\\$x\\_label), names(data))\n",
       "    z\\_cor\\$y\\_label <- ezLev(factor(z\\_cor\\$y\\_label), names(data))\n",
       "    diag <- z\\_cor{[}z\\_cor\\$x\\_label == z\\_cor\\$y\\_label, {]}\n",
       "    z\\_cor <- z\\_cor{[}z\\_cor\\$x\\_label != z\\_cor\\$y\\_label, {]}\n",
       "    points\\_layer <- geom\\_point(aes(x = x\\_var, y = y\\_var, alpha = trans), \n",
       "        data = z)\n",
       "    bin\\_layer <- geom\\_hex(data = z, mapping = aes(x = x\\_var, \n",
       "        y = y\\_var, alpha = trans), bins = 10)\n",
       "    lm\\_line\\_layer <- stat\\_smooth(aes(x = x\\_var, y = y\\_var), method = line.method)\n",
       "    cor\\_text <- geom\\_text(aes(x = y\\_mid, y = x\\_mid, label = cor, \n",
       "        size = rsq, colour = p), data = z\\_cor)\n",
       "    var\\_text <- geom\\_text(aes(x = y\\_mid, y = x\\_mid, label = x\\_label), \n",
       "        data = diag, size = var\\_text\\_size)\n",
       "    f <- facet\\_grid(y\\_label \\textasciitilde{} x\\_label, scales = \"free\")\n",
       "    o <- theme(panel.grid.minor = element\\_blank(), panel.grid.major = element\\_blank(), \n",
       "        axis.ticks = element\\_blank(), axis.text.y = element\\_blank(), \n",
       "        axis.text.x = element\\_blank(), axis.title.y = element\\_blank(), \n",
       "        axis.title.x = element\\_blank(), legend.position = \"none\")\n",
       "    size\\_scale <- scale\\_size(limits = c(0, 1), range = cor\\_text\\_limits)\n",
       "    the.plot <- ggplot(data = z)\n",
       "    if (type == \"bins\") \n",
       "        the.plot <- the.plot + bin\\_layer\n",
       "    else if (type == \"points\") \n",
       "        the.plot <- the.plot + points\\_layer + scale\\_alpha\\_identity()\n",
       "    the.plot <- the.plot + var\\_text + cor\\_text + f + o + size\\_scale\n",
       "    if (type == \"bins\") \n",
       "        the.plot <- the.plot + scale\\_fill\\_gradient(low = \"grey\", \n",
       "            high = \"black\")\n",
       "    if (lines) \n",
       "        the.plot <- the.plot + lm\\_line\\_layer\n",
       "    if (main == \"auto\") \n",
       "        main <- cor.mat{[}{[}1{]}{]}{[}{[}1{]}{]}\\$method\n",
       "    the.plot <- the.plot + ggtitle(main)\n",
       "    return(the.plot)\n",
       "\\}\n",
       "\\end{minted}"
      ],
      "text/markdown": [
       "```r\n",
       "function (cor.mat, data = NULL, lines = TRUE, line.method = c(\"lm\", \n",
       "    \"loess\"), type = \"points\", alpha = 0.25, main = \"auto\", var_text_size = 5, \n",
       "    cor_text_limits = c(5, 25), level = 0.05) \n",
       "{\n",
       "    x_var <- y_var <- trans <- rsq <- p <- x_label <- NULL\n",
       "    ezLev <- function(x, new_order) {\n",
       "        for (i in rev(new_order)) {\n",
       "            x <- relevel(x, ref = i)\n",
       "        }\n",
       "        return(x)\n",
       "    }\n",
       "    if (all(line.method == c(\"lm\", \"loess\"))) \n",
       "        line.method <- \"lm\"\n",
       "    nm <- names(cor.mat)\n",
       "    for (i in 1:length(nm)) dat <- if (i == 1) \n",
       "        d(eval(parse(text = nm[i]), data, parent.frame()))\n",
       "    else d(dat, eval(parse(text = nm[i]), data, parent.frame()))\n",
       "    data <- dat\n",
       "    names(data) <- nm\n",
       "    for (i in 1:length(data)) {\n",
       "        data[, i] <- as.numeric(data[, i])\n",
       "        data[, i] <- (data[, i] - mean(data[, i], na.rm = TRUE))/sd(data[, \n",
       "            i], na.rm = TRUE)\n",
       "    }\n",
       "    z <- data.frame()\n",
       "    i <- 1\n",
       "    j <- i\n",
       "    while (i <= length(data)) {\n",
       "        if (j > length(data)) {\n",
       "            i <- i + 1\n",
       "            j <- i\n",
       "        }\n",
       "        else {\n",
       "            x <- data[, i]\n",
       "            y <- data[, j]\n",
       "            temp <- as.data.frame((cbind(x, y)))\n",
       "            temp <- cbind(temp, names(data)[i], names(data)[j])\n",
       "            z <- rbind(z, temp)\n",
       "            j <- j + 1\n",
       "        }\n",
       "    }\n",
       "    z <- cbind(z, alpha)\n",
       "    names(z) = c(\"x_var\", \"y_var\", \"x_label\", \"y_label\", \"trans\")\n",
       "    z$x_label <- ezLev(factor(z$x_label), names(data))\n",
       "    z$y_label <- ezLev(factor(z$y_label), names(data))\n",
       "    z = z[z$x_label != z$y_label, ]\n",
       "    z_cor <- data.frame()\n",
       "    i <- 1\n",
       "    j <- i\n",
       "    while (i <= length(data)) {\n",
       "        if (j > length(data)) {\n",
       "            i <- i + 1\n",
       "            j <- i\n",
       "        }\n",
       "        else {\n",
       "            x <- na.omit(data[, i])\n",
       "            y <- na.omit(data[, j])\n",
       "            x_mid <- min(x) + diff(range(x))/2\n",
       "            y_mid <- min(y) + diff(range(y))/2\n",
       "            this_cor <- cor.mat[[i]][[j]]$estimate\n",
       "            this_cor.test <- cor.mat[[i]][[j]]\n",
       "            this_col <- ifelse(this_cor.test$p.value < level, \n",
       "                \"red\", \"blue\")\n",
       "            this_size <- (this_cor)^2\n",
       "            cor_text <- ifelse(this_cor > 0, substr(format(c(this_cor, \n",
       "                0.123456789), digits = 2)[1], 2, 4), paste(\"-\", \n",
       "                substr(format(c(this_cor, 0.123456789), digits = 2)[1], \n",
       "                  3, 5), sep = \"\"))\n",
       "            b <- as.data.frame(cor_text)\n",
       "            b <- cbind(b, x_mid, y_mid, this_col, this_size, \n",
       "                names(data)[j], names(data)[i])\n",
       "            z_cor <- rbind(z_cor, b)\n",
       "            j <- j + 1\n",
       "        }\n",
       "    }\n",
       "    names(z_cor) <- c(\"cor\", \"x_mid\", \"y_mid\", \"p\", \"rsq\", \"x_label\", \n",
       "        \"y_label\")\n",
       "    z_cor$x_label <- ezLev(factor(z_cor$x_label), names(data))\n",
       "    z_cor$y_label <- ezLev(factor(z_cor$y_label), names(data))\n",
       "    diag <- z_cor[z_cor$x_label == z_cor$y_label, ]\n",
       "    z_cor <- z_cor[z_cor$x_label != z_cor$y_label, ]\n",
       "    points_layer <- geom_point(aes(x = x_var, y = y_var, alpha = trans), \n",
       "        data = z)\n",
       "    bin_layer <- geom_hex(data = z, mapping = aes(x = x_var, \n",
       "        y = y_var, alpha = trans), bins = 10)\n",
       "    lm_line_layer <- stat_smooth(aes(x = x_var, y = y_var), method = line.method)\n",
       "    cor_text <- geom_text(aes(x = y_mid, y = x_mid, label = cor, \n",
       "        size = rsq, colour = p), data = z_cor)\n",
       "    var_text <- geom_text(aes(x = y_mid, y = x_mid, label = x_label), \n",
       "        data = diag, size = var_text_size)\n",
       "    f <- facet_grid(y_label ~ x_label, scales = \"free\")\n",
       "    o <- theme(panel.grid.minor = element_blank(), panel.grid.major = element_blank(), \n",
       "        axis.ticks = element_blank(), axis.text.y = element_blank(), \n",
       "        axis.text.x = element_blank(), axis.title.y = element_blank(), \n",
       "        axis.title.x = element_blank(), legend.position = \"none\")\n",
       "    size_scale <- scale_size(limits = c(0, 1), range = cor_text_limits)\n",
       "    the.plot <- ggplot(data = z)\n",
       "    if (type == \"bins\") \n",
       "        the.plot <- the.plot + bin_layer\n",
       "    else if (type == \"points\") \n",
       "        the.plot <- the.plot + points_layer + scale_alpha_identity()\n",
       "    the.plot <- the.plot + var_text + cor_text + f + o + size_scale\n",
       "    if (type == \"bins\") \n",
       "        the.plot <- the.plot + scale_fill_gradient(low = \"grey\", \n",
       "            high = \"black\")\n",
       "    if (lines) \n",
       "        the.plot <- the.plot + lm_line_layer\n",
       "    if (main == \"auto\") \n",
       "        main <- cor.mat[[1]][[1]]$method\n",
       "    the.plot <- the.plot + ggtitle(main)\n",
       "    return(the.plot)\n",
       "}\n",
       "```"
      ],
      "text/plain": [
       "function (cor.mat, data = NULL, lines = TRUE, line.method = c(\"lm\", \n",
       "    \"loess\"), type = \"points\", alpha = 0.25, main = \"auto\", var_text_size = 5, \n",
       "    cor_text_limits = c(5, 25), level = 0.05) \n",
       "{\n",
       "    x_var <- y_var <- trans <- rsq <- p <- x_label <- NULL\n",
       "    ezLev <- function(x, new_order) {\n",
       "        for (i in rev(new_order)) {\n",
       "            x <- relevel(x, ref = i)\n",
       "        }\n",
       "        return(x)\n",
       "    }\n",
       "    if (all(line.method == c(\"lm\", \"loess\"))) \n",
       "        line.method <- \"lm\"\n",
       "    nm <- names(cor.mat)\n",
       "    for (i in 1:length(nm)) dat <- if (i == 1) \n",
       "        d(eval(parse(text = nm[i]), data, parent.frame()))\n",
       "    else d(dat, eval(parse(text = nm[i]), data, parent.frame()))\n",
       "    data <- dat\n",
       "    names(data) <- nm\n",
       "    for (i in 1:length(data)) {\n",
       "        data[, i] <- as.numeric(data[, i])\n",
       "        data[, i] <- (data[, i] - mean(data[, i], na.rm = TRUE))/sd(data[, \n",
       "            i], na.rm = TRUE)\n",
       "    }\n",
       "    z <- data.frame()\n",
       "    i <- 1\n",
       "    j <- i\n",
       "    while (i <= length(data)) {\n",
       "        if (j > length(data)) {\n",
       "            i <- i + 1\n",
       "            j <- i\n",
       "        }\n",
       "        else {\n",
       "            x <- data[, i]\n",
       "            y <- data[, j]\n",
       "            temp <- as.data.frame((cbind(x, y)))\n",
       "            temp <- cbind(temp, names(data)[i], names(data)[j])\n",
       "            z <- rbind(z, temp)\n",
       "            j <- j + 1\n",
       "        }\n",
       "    }\n",
       "    z <- cbind(z, alpha)\n",
       "    names(z) = c(\"x_var\", \"y_var\", \"x_label\", \"y_label\", \"trans\")\n",
       "    z$x_label <- ezLev(factor(z$x_label), names(data))\n",
       "    z$y_label <- ezLev(factor(z$y_label), names(data))\n",
       "    z = z[z$x_label != z$y_label, ]\n",
       "    z_cor <- data.frame()\n",
       "    i <- 1\n",
       "    j <- i\n",
       "    while (i <= length(data)) {\n",
       "        if (j > length(data)) {\n",
       "            i <- i + 1\n",
       "            j <- i\n",
       "        }\n",
       "        else {\n",
       "            x <- na.omit(data[, i])\n",
       "            y <- na.omit(data[, j])\n",
       "            x_mid <- min(x) + diff(range(x))/2\n",
       "            y_mid <- min(y) + diff(range(y))/2\n",
       "            this_cor <- cor.mat[[i]][[j]]$estimate\n",
       "            this_cor.test <- cor.mat[[i]][[j]]\n",
       "            this_col <- ifelse(this_cor.test$p.value < level, \n",
       "                \"red\", \"blue\")\n",
       "            this_size <- (this_cor)^2\n",
       "            cor_text <- ifelse(this_cor > 0, substr(format(c(this_cor, \n",
       "                0.123456789), digits = 2)[1], 2, 4), paste(\"-\", \n",
       "                substr(format(c(this_cor, 0.123456789), digits = 2)[1], \n",
       "                  3, 5), sep = \"\"))\n",
       "            b <- as.data.frame(cor_text)\n",
       "            b <- cbind(b, x_mid, y_mid, this_col, this_size, \n",
       "                names(data)[j], names(data)[i])\n",
       "            z_cor <- rbind(z_cor, b)\n",
       "            j <- j + 1\n",
       "        }\n",
       "    }\n",
       "    names(z_cor) <- c(\"cor\", \"x_mid\", \"y_mid\", \"p\", \"rsq\", \"x_label\", \n",
       "        \"y_label\")\n",
       "    z_cor$x_label <- ezLev(factor(z_cor$x_label), names(data))\n",
       "    z_cor$y_label <- ezLev(factor(z_cor$y_label), names(data))\n",
       "    diag <- z_cor[z_cor$x_label == z_cor$y_label, ]\n",
       "    z_cor <- z_cor[z_cor$x_label != z_cor$y_label, ]\n",
       "    points_layer <- geom_point(aes(x = x_var, y = y_var, alpha = trans), \n",
       "        data = z)\n",
       "    bin_layer <- geom_hex(data = z, mapping = aes(x = x_var, \n",
       "        y = y_var, alpha = trans), bins = 10)\n",
       "    lm_line_layer <- stat_smooth(aes(x = x_var, y = y_var), method = line.method)\n",
       "    cor_text <- geom_text(aes(x = y_mid, y = x_mid, label = cor, \n",
       "        size = rsq, colour = p), data = z_cor)\n",
       "    var_text <- geom_text(aes(x = y_mid, y = x_mid, label = x_label), \n",
       "        data = diag, size = var_text_size)\n",
       "    f <- facet_grid(y_label ~ x_label, scales = \"free\")\n",
       "    o <- theme(panel.grid.minor = element_blank(), panel.grid.major = element_blank(), \n",
       "        axis.ticks = element_blank(), axis.text.y = element_blank(), \n",
       "        axis.text.x = element_blank(), axis.title.y = element_blank(), \n",
       "        axis.title.x = element_blank(), legend.position = \"none\")\n",
       "    size_scale <- scale_size(limits = c(0, 1), range = cor_text_limits)\n",
       "    the.plot <- ggplot(data = z)\n",
       "    if (type == \"bins\") \n",
       "        the.plot <- the.plot + bin_layer\n",
       "    else if (type == \"points\") \n",
       "        the.plot <- the.plot + points_layer + scale_alpha_identity()\n",
       "    the.plot <- the.plot + var_text + cor_text + f + o + size_scale\n",
       "    if (type == \"bins\") \n",
       "        the.plot <- the.plot + scale_fill_gradient(low = \"grey\", \n",
       "            high = \"black\")\n",
       "    if (lines) \n",
       "        the.plot <- the.plot + lm_line_layer\n",
       "    if (main == \"auto\") \n",
       "        main <- cor.mat[[1]][[1]]$method\n",
       "    the.plot <- the.plot + ggtitle(main)\n",
       "    return(the.plot)\n",
       "}\n",
       "<bytecode: 0xe1cf3d0>\n",
       "<environment: namespace:Deducer>"
      ]
     },
     "metadata": {},
     "output_type": "display_data"
    }
   ],
   "source": [
    "Deducer::ggcorplot"
   ]
  },
  {
   "cell_type": "code",
   "execution_count": 55,
   "metadata": {},
   "outputs": [
    {
     "ename": "ERROR",
     "evalue": "Error in variables[[var1]]: subscript out of bounds\n",
     "output_type": "error",
     "traceback": [
      "Error in variables[[var1]]: subscript out of bounds\nTraceback:\n",
      "1. typeof(Deducer::cor.matrix(cor_mat))",
      "2. Deducer::cor.matrix(cor_mat)",
      "3. na.omit(data.frame(as.numeric(variables[[var1]]), as.numeric(with.variables[[var2]])))",
      "4. data.frame(as.numeric(variables[[var1]]), as.numeric(with.variables[[var2]]))"
     ]
    }
   ],
   "source": [
    "typeof(Deducer::cor.matrix(cor_mat))"
   ]
  },
  {
   "cell_type": "code",
   "execution_count": 26,
   "metadata": {},
   "outputs": [
    {
     "data": {},
     "metadata": {},
     "output_type": "display_data"
    },
    {
     "data": {
      "image/png": "[encoded data removed]",
      "text/plain": [
       "plot without title"
      ]
     },
     "metadata": {},
     "output_type": "display_data"
    }
   ],
   "source": [
    "GGally::ggcorr(cor_mat) + ggtitle(\"Predictor correlations\")"
   ]
  },
  {
   "cell_type": "code",
   "execution_count": 18,
   "metadata": {},
   "outputs": [
    {
     "data": {},
     "metadata": {},
     "output_type": "display_data"
    },
    {
     "data": {
      "image/png": "[encoded data removed]",
      "text/plain": [
       "plot without title"
      ]
     },
     "metadata": {},
     "output_type": "display_data"
    }
   ],
   "source": [
    "cors_dist_df <- data.frame(cors=as.vector(cor_mat)) %>% filter(cors != 1)\n",
    "vu$pltsize(8, 3)\n",
    "ggplot(cors_dist_df, aes(cors)) + geom_histogram(bins=30) + ggtitle(\"All cross correlations\")"
   ]
  },
  {
   "cell_type": "code",
   "execution_count": 28,
   "metadata": {},
   "outputs": [
    {
     "data": {
      "text/html": [
       "<table>\n",
       "<thead><tr><th scope=col>nr</th><th scope=col>RI</th><th scope=col>Na</th><th scope=col>Mg</th><th scope=col>Al</th><th scope=col>Si</th><th scope=col>K</th><th scope=col>Ca</th><th scope=col>Ba</th><th scope=col>Fe</th><th scope=col>Type</th></tr></thead>\n",
       "<tbody>\n",
       "\t<tr><td>1      </td><td>1.52101</td><td>13.64  </td><td>4.49   </td><td>1.10   </td><td>71.78  </td><td>0.06   </td><td>8.75   </td><td>0      </td><td>0.00   </td><td>1      </td></tr>\n",
       "\t<tr><td>2      </td><td>1.51761</td><td>13.89  </td><td>3.60   </td><td>1.36   </td><td>72.73  </td><td>0.48   </td><td>7.83   </td><td>0      </td><td>0.00   </td><td>1      </td></tr>\n",
       "\t<tr><td>3      </td><td>1.51618</td><td>13.53  </td><td>3.55   </td><td>1.54   </td><td>72.99  </td><td>0.39   </td><td>7.78   </td><td>0      </td><td>0.00   </td><td>1      </td></tr>\n",
       "\t<tr><td>4      </td><td>1.51766</td><td>13.21  </td><td>3.69   </td><td>1.29   </td><td>72.61  </td><td>0.57   </td><td>8.22   </td><td>0      </td><td>0.00   </td><td>1      </td></tr>\n",
       "\t<tr><td>5      </td><td>1.51742</td><td>13.27  </td><td>3.62   </td><td>1.24   </td><td>73.08  </td><td>0.55   </td><td>8.07   </td><td>0      </td><td>0.00   </td><td>1      </td></tr>\n",
       "\t<tr><td>6      </td><td>1.51596</td><td>12.79  </td><td>3.61   </td><td>1.62   </td><td>72.97  </td><td>0.64   </td><td>8.07   </td><td>0      </td><td>0.26   </td><td>1      </td></tr>\n",
       "</tbody>\n",
       "</table>\n"
      ],
      "text/latex": [
       "\\begin{tabular}{r|lllllllllll}\n",
       " nr & RI & Na & Mg & Al & Si & K & Ca & Ba & Fe & Type\\\\\n",
       "\\hline\n",
       "\t 1       & 1.52101 & 13.64   & 4.49    & 1.10    & 71.78   & 0.06    & 8.75    & 0       & 0.00    & 1      \\\\\n",
       "\t 2       & 1.51761 & 13.89   & 3.60    & 1.36    & 72.73   & 0.48    & 7.83    & 0       & 0.00    & 1      \\\\\n",
       "\t 3       & 1.51618 & 13.53   & 3.55    & 1.54    & 72.99   & 0.39    & 7.78    & 0       & 0.00    & 1      \\\\\n",
       "\t 4       & 1.51766 & 13.21   & 3.69    & 1.29    & 72.61   & 0.57    & 8.22    & 0       & 0.00    & 1      \\\\\n",
       "\t 5       & 1.51742 & 13.27   & 3.62    & 1.24    & 73.08   & 0.55    & 8.07    & 0       & 0.00    & 1      \\\\\n",
       "\t 6       & 1.51596 & 12.79   & 3.61    & 1.62    & 72.97   & 0.64    & 8.07    & 0       & 0.26    & 1      \\\\\n",
       "\\end{tabular}\n"
      ],
      "text/markdown": [
       "\n",
       "nr | RI | Na | Mg | Al | Si | K | Ca | Ba | Fe | Type | \n",
       "|---|---|---|---|---|---|\n",
       "| 1       | 1.52101 | 13.64   | 4.49    | 1.10    | 71.78   | 0.06    | 8.75    | 0       | 0.00    | 1       | \n",
       "| 2       | 1.51761 | 13.89   | 3.60    | 1.36    | 72.73   | 0.48    | 7.83    | 0       | 0.00    | 1       | \n",
       "| 3       | 1.51618 | 13.53   | 3.55    | 1.54    | 72.99   | 0.39    | 7.78    | 0       | 0.00    | 1       | \n",
       "| 4       | 1.51766 | 13.21   | 3.69    | 1.29    | 72.61   | 0.57    | 8.22    | 0       | 0.00    | 1       | \n",
       "| 5       | 1.51742 | 13.27   | 3.62    | 1.24    | 73.08   | 0.55    | 8.07    | 0       | 0.00    | 1       | \n",
       "| 6       | 1.51596 | 12.79   | 3.61    | 1.62    | 72.97   | 0.64    | 8.07    | 0       | 0.26    | 1       | \n",
       "\n",
       "\n"
      ],
      "text/plain": [
       "  nr RI      Na    Mg   Al   Si    K    Ca   Ba Fe   Type\n",
       "1 1  1.52101 13.64 4.49 1.10 71.78 0.06 8.75 0  0.00 1   \n",
       "2 2  1.51761 13.89 3.60 1.36 72.73 0.48 7.83 0  0.00 1   \n",
       "3 3  1.51618 13.53 3.55 1.54 72.99 0.39 7.78 0  0.00 1   \n",
       "4 4  1.51766 13.21 3.69 1.29 72.61 0.57 8.22 0  0.00 1   \n",
       "5 5  1.51742 13.27 3.62 1.24 73.08 0.55 8.07 0  0.00 1   \n",
       "6 6  1.51596 12.79 3.61 1.62 72.97 0.64 8.07 0  0.26 1   "
      ]
     },
     "metadata": {},
     "output_type": "display_data"
    }
   ],
   "source": [
    "head(wide_stones_df)"
   ]
  },
  {
   "cell_type": "code",
   "execution_count": 27,
   "metadata": {},
   "outputs": [
    {
     "data": {
      "text/html": [
       "<table>\n",
       "<thead><tr><th scope=col>key</th><th scope=col>value</th></tr></thead>\n",
       "<tbody>\n",
       "\t<tr><td>Na   </td><td>13.64</td></tr>\n",
       "\t<tr><td>Na   </td><td>13.89</td></tr>\n",
       "\t<tr><td>Na   </td><td>13.53</td></tr>\n",
       "\t<tr><td>Na   </td><td>13.21</td></tr>\n",
       "\t<tr><td>Na   </td><td>13.27</td></tr>\n",
       "\t<tr><td>Na   </td><td>12.79</td></tr>\n",
       "</tbody>\n",
       "</table>\n"
      ],
      "text/latex": [
       "\\begin{tabular}{r|ll}\n",
       " key & value\\\\\n",
       "\\hline\n",
       "\t Na    & 13.64\\\\\n",
       "\t Na    & 13.89\\\\\n",
       "\t Na    & 13.53\\\\\n",
       "\t Na    & 13.21\\\\\n",
       "\t Na    & 13.27\\\\\n",
       "\t Na    & 12.79\\\\\n",
       "\\end{tabular}\n"
      ],
      "text/markdown": [
       "\n",
       "key | value | \n",
       "|---|---|---|---|---|---|\n",
       "| Na    | 13.64 | \n",
       "| Na    | 13.89 | \n",
       "| Na    | 13.53 | \n",
       "| Na    | 13.21 | \n",
       "| Na    | 13.27 | \n",
       "| Na    | 12.79 | \n",
       "\n",
       "\n"
      ],
      "text/plain": [
       "  key value\n",
       "1 Na  13.64\n",
       "2 Na  13.89\n",
       "3 Na  13.53\n",
       "4 Na  13.21\n",
       "5 Na  13.27\n",
       "6 Na  12.79"
      ]
     },
     "metadata": {},
     "output_type": "display_data"
    }
   ],
   "source": [
    "head(long_stones_df)"
   ]
  },
  {
   "cell_type": "code",
   "execution_count": 37,
   "metadata": {},
   "outputs": [],
   "source": [
    "pairwise_comp <- function(df, sample1, sample2) {\n",
    "    ggplot(df, aes_string(x=df[, sample1], y=df[, sample2])) + \n",
    "        geom_point() +\n",
    "        ggtitle(paste(sample1, \"vs\", sample2)) +\n",
    "        geom_smooth(method=\"lm\", formula=y~x) +\n",
    "        xlab(sample1) +\n",
    "        ylab(sample2)\n",
    "}"
   ]
  },
  {
   "cell_type": "code",
   "execution_count": 39,
   "metadata": {},
   "outputs": [
    {
     "ename": "ERROR",
     "evalue": "Error in plotmatrix(as.data.frame(wide_stones_df), \"Na\", \"Mg\"): could not find function \"plotmatrix\"\n",
     "output_type": "error",
     "traceback": [
      "Error in plotmatrix(as.data.frame(wide_stones_df), \"Na\", \"Mg\"): could not find function \"plotmatrix\"\nTraceback:\n"
     ]
    }
   ],
   "source": [
    "plotmatrix(as.data.frame(wide_stones_df), \"Na\", \"Mg\")"
   ]
  },
  {
   "cell_type": "code",
   "execution_count": 59,
   "metadata": {},
   "outputs": [
    {
     "data": {
      "text/html": [
       "<table>\n",
       "<thead><tr><th scope=col>key</th><th scope=col>value</th></tr></thead>\n",
       "<tbody>\n",
       "\t<tr><td>Na   </td><td>13.64</td></tr>\n",
       "\t<tr><td>Na   </td><td>13.89</td></tr>\n",
       "\t<tr><td>Na   </td><td>13.53</td></tr>\n",
       "\t<tr><td>Na   </td><td>13.21</td></tr>\n",
       "\t<tr><td>Na   </td><td>13.27</td></tr>\n",
       "\t<tr><td>Na   </td><td>12.79</td></tr>\n",
       "</tbody>\n",
       "</table>\n"
      ],
      "text/latex": [
       "\\begin{tabular}{r|ll}\n",
       " key & value\\\\\n",
       "\\hline\n",
       "\t Na    & 13.64\\\\\n",
       "\t Na    & 13.89\\\\\n",
       "\t Na    & 13.53\\\\\n",
       "\t Na    & 13.21\\\\\n",
       "\t Na    & 13.27\\\\\n",
       "\t Na    & 12.79\\\\\n",
       "\\end{tabular}\n"
      ],
      "text/markdown": [
       "\n",
       "key | value | \n",
       "|---|---|---|---|---|---|\n",
       "| Na    | 13.64 | \n",
       "| Na    | 13.89 | \n",
       "| Na    | 13.53 | \n",
       "| Na    | 13.21 | \n",
       "| Na    | 13.27 | \n",
       "| Na    | 12.79 | \n",
       "\n",
       "\n"
      ],
      "text/plain": [
       "  key value\n",
       "1 Na  13.64\n",
       "2 Na  13.89\n",
       "3 Na  13.53\n",
       "4 Na  13.21\n",
       "5 Na  13.27\n",
       "6 Na  12.79"
      ]
     },
     "metadata": {},
     "output_type": "display_data"
    }
   ],
   "source": [
    "head(long_stones_df)"
   ]
  },
  {
   "cell_type": "code",
   "execution_count": 85,
   "metadata": {},
   "outputs": [
    {
     "data": {},
     "metadata": {},
     "output_type": "display_data"
    },
    {
     "data": {
      "image/png": "[encoded data removed]",
      "text/plain": [
       "plot without title"
      ]
     },
     "metadata": {},
     "output_type": "display_data"
    }
   ],
   "source": [
    "vu$pltsize(10, 10)\n",
    "GGally::ggpairs(wide_stones_df[, stone_cols])"
   ]
  },
  {
   "cell_type": "code",
   "execution_count": 86,
   "metadata": {},
   "outputs": [],
   "source": [
    "# pltlist <- list()\n",
    "# plt_index <- 1\n",
    "# for (outer_index in seq_len(length(stone_cols)-1)) {\n",
    "#     for (inner_index in seq(outer_index+1, length(stone_cols))) {\n",
    "#         corr1 <- stone_cols[outer_index]\n",
    "#         corr2 <- stone_cols[inner_index]\n",
    "# #         message(\"outer\", corr1, \"inner\", corr2)\n",
    "        \n",
    "#         pltlist[[plt_index]] <- pairwise_comp(as.data.frame(wide_stones_df), corr1, corr2)        \n",
    "#         plt_index <- plt_index + 1\n",
    "#     }\n",
    "# }\n",
    "\n",
    "# vu$pltsize(12, 12)\n",
    "# vu$multiplot(plotlist=pltlist, cols=8)\n",
    "\n",
    "# # pairwise_comp(as.data.frame(wide_stones_df), \"Na\", \"Mg\")"
   ]
  },
  {
   "cell_type": "markdown",
   "metadata": {},
   "source": [
    "# Training\n",
    "\n",
    "Start with using all variables as continuous. Try a general regression. Also try a logistic model."
   ]
  },
  {
   "cell_type": "code",
   "execution_count": 116,
   "metadata": {},
   "outputs": [
    {
     "data": {
      "text/html": [
       "<table>\n",
       "<thead><tr><th scope=col>nr</th><th scope=col>RI</th><th scope=col>Na</th><th scope=col>Mg</th><th scope=col>Al</th><th scope=col>Si</th><th scope=col>K</th><th scope=col>Ca</th><th scope=col>Ba</th><th scope=col>Fe</th><th scope=col>Type</th></tr></thead>\n",
       "<tbody>\n",
       "\t<tr><td>1      </td><td>1.52101</td><td>13.64  </td><td>4.49   </td><td>1.10   </td><td>71.78  </td><td>0.06   </td><td>8.75   </td><td>0      </td><td>0.00   </td><td>1      </td></tr>\n",
       "\t<tr><td>2      </td><td>1.51761</td><td>13.89  </td><td>3.60   </td><td>1.36   </td><td>72.73  </td><td>0.48   </td><td>7.83   </td><td>0      </td><td>0.00   </td><td>1      </td></tr>\n",
       "\t<tr><td>3      </td><td>1.51618</td><td>13.53  </td><td>3.55   </td><td>1.54   </td><td>72.99  </td><td>0.39   </td><td>7.78   </td><td>0      </td><td>0.00   </td><td>1      </td></tr>\n",
       "\t<tr><td>4      </td><td>1.51766</td><td>13.21  </td><td>3.69   </td><td>1.29   </td><td>72.61  </td><td>0.57   </td><td>8.22   </td><td>0      </td><td>0.00   </td><td>1      </td></tr>\n",
       "\t<tr><td>5      </td><td>1.51742</td><td>13.27  </td><td>3.62   </td><td>1.24   </td><td>73.08  </td><td>0.55   </td><td>8.07   </td><td>0      </td><td>0.00   </td><td>1      </td></tr>\n",
       "\t<tr><td>6      </td><td>1.51596</td><td>12.79  </td><td>3.61   </td><td>1.62   </td><td>72.97  </td><td>0.64   </td><td>8.07   </td><td>0      </td><td>0.26   </td><td>1      </td></tr>\n",
       "</tbody>\n",
       "</table>\n"
      ],
      "text/latex": [
       "\\begin{tabular}{r|lllllllllll}\n",
       " nr & RI & Na & Mg & Al & Si & K & Ca & Ba & Fe & Type\\\\\n",
       "\\hline\n",
       "\t 1       & 1.52101 & 13.64   & 4.49    & 1.10    & 71.78   & 0.06    & 8.75    & 0       & 0.00    & 1      \\\\\n",
       "\t 2       & 1.51761 & 13.89   & 3.60    & 1.36    & 72.73   & 0.48    & 7.83    & 0       & 0.00    & 1      \\\\\n",
       "\t 3       & 1.51618 & 13.53   & 3.55    & 1.54    & 72.99   & 0.39    & 7.78    & 0       & 0.00    & 1      \\\\\n",
       "\t 4       & 1.51766 & 13.21   & 3.69    & 1.29    & 72.61   & 0.57    & 8.22    & 0       & 0.00    & 1      \\\\\n",
       "\t 5       & 1.51742 & 13.27   & 3.62    & 1.24    & 73.08   & 0.55    & 8.07    & 0       & 0.00    & 1      \\\\\n",
       "\t 6       & 1.51596 & 12.79   & 3.61    & 1.62    & 72.97   & 0.64    & 8.07    & 0       & 0.26    & 1      \\\\\n",
       "\\end{tabular}\n"
      ],
      "text/markdown": [
       "\n",
       "nr | RI | Na | Mg | Al | Si | K | Ca | Ba | Fe | Type | \n",
       "|---|---|---|---|---|---|\n",
       "| 1       | 1.52101 | 13.64   | 4.49    | 1.10    | 71.78   | 0.06    | 8.75    | 0       | 0.00    | 1       | \n",
       "| 2       | 1.51761 | 13.89   | 3.60    | 1.36    | 72.73   | 0.48    | 7.83    | 0       | 0.00    | 1       | \n",
       "| 3       | 1.51618 | 13.53   | 3.55    | 1.54    | 72.99   | 0.39    | 7.78    | 0       | 0.00    | 1       | \n",
       "| 4       | 1.51766 | 13.21   | 3.69    | 1.29    | 72.61   | 0.57    | 8.22    | 0       | 0.00    | 1       | \n",
       "| 5       | 1.51742 | 13.27   | 3.62    | 1.24    | 73.08   | 0.55    | 8.07    | 0       | 0.00    | 1       | \n",
       "| 6       | 1.51596 | 12.79   | 3.61    | 1.62    | 72.97   | 0.64    | 8.07    | 0       | 0.26    | 1       | \n",
       "\n",
       "\n"
      ],
      "text/plain": [
       "  nr RI      Na    Mg   Al   Si    K    Ca   Ba Fe   Type\n",
       "1 1  1.52101 13.64 4.49 1.10 71.78 0.06 8.75 0  0.00 1   \n",
       "2 2  1.51761 13.89 3.60 1.36 72.73 0.48 7.83 0  0.00 1   \n",
       "3 3  1.51618 13.53 3.55 1.54 72.99 0.39 7.78 0  0.00 1   \n",
       "4 4  1.51766 13.21 3.69 1.29 72.61 0.57 8.22 0  0.00 1   \n",
       "5 5  1.51742 13.27 3.62 1.24 73.08 0.55 8.07 0  0.00 1   \n",
       "6 6  1.51596 12.79 3.61 1.62 72.97 0.64 8.07 0  0.26 1   "
      ]
     },
     "metadata": {},
     "output_type": "display_data"
    }
   ],
   "source": [
    "head(wide_stones_df)"
   ]
  },
  {
   "cell_type": "code",
   "execution_count": 131,
   "metadata": {},
   "outputs": [],
   "source": [
    "control <- caret::trainControl(\n",
    "    method=\"repeatedcv\",\n",
    "    number=10,\n",
    "    repeats=3\n",
    ")\n",
    "\n",
    "models <- list()\n",
    "# methods <- c(\"lm\", \"\")\n",
    "\n",
    "models[[\"linear\"]] <- caret::train(\n",
    "    Type~.,\n",
    "    data=wide_stones_df %>% dplyr::select(-nr),\n",
    "    method=\"lm\",\n",
    "    preProcess=\"scale\",\n",
    "    trControl=control\n",
    ")\n",
    "\n",
    "models[[\"randfor\"]] <- caret::train(\n",
    "    Type~.,\n",
    "    data=wide_stones_df %>% dplyr::select(-nr),\n",
    "    method=\"ranger\",\n",
    "    preProcess=\"scale\",\n",
    "    trControl=control\n",
    ")"
   ]
  },
  {
   "cell_type": "code",
   "execution_count": 133,
   "metadata": {},
   "outputs": [
    {
     "name": "stdout",
     "output_type": "stream",
     "text": [
      "Linear Regression \n",
      "\n",
      "214 samples\n",
      "  9 predictors\n",
      "\n",
      "Pre-processing: scaled (9) \n",
      "Resampling: Cross-Validated (10 fold, repeated 3 times) \n",
      "Summary of sample sizes: 193, 193, 193, 192, 193, 192, ... \n",
      "Resampling results:\n",
      "\n",
      "  RMSE      Rsquared   MAE      \n",
      "  1.129318  0.7179799  0.8111239\n",
      "\n",
      "Tuning parameter 'intercept' was held constant at a value of TRUE\n",
      "Random Forest \n",
      "\n",
      "214 samples\n",
      "  9 predictors\n",
      "\n",
      "Pre-processing: scaled (9) \n",
      "Resampling: Cross-Validated (10 fold, repeated 3 times) \n",
      "Summary of sample sizes: 192, 191, 193, 193, 193, 194, ... \n",
      "Resampling results across tuning parameters:\n",
      "\n",
      "  mtry  splitrule   RMSE       Rsquared   MAE      \n",
      "  2     variance    0.9502948  0.7989423  0.6428505\n",
      "  2     extratrees  0.9363320  0.8113923  0.6700831\n",
      "  5     variance    0.9414580  0.7960233  0.6018793\n",
      "  5     extratrees  0.9241132  0.8083243  0.6293030\n",
      "  9     variance    0.9603731  0.7839069  0.5937056\n",
      "  9     extratrees  0.9128458  0.8090213  0.6042285\n",
      "\n",
      "Tuning parameter 'min.node.size' was held constant at a value of 5\n",
      "RMSE was used to select the optimal model using the smallest value.\n",
      "The final values used for the model were mtry = 9, splitrule = extratrees\n",
      " and min.node.size = 5.\n"
     ]
    }
   ],
   "source": [
    "for (model in models) {\n",
    "    print(model)\n",
    "}"
   ]
  },
  {
   "cell_type": "code",
   "execution_count": 139,
   "metadata": {},
   "outputs": [
    {
     "data": {
      "image/png": "[encoded data removed]",
      "text/plain": [
       "plot without title"
      ]
     },
     "metadata": {},
     "output_type": "display_data"
    }
   ],
   "source": [
    "\n",
    "for (model_name in \"linear\") {\n",
    "    model <- models[[model_name]]\n",
    "#     print(model)\n",
    "    importance <- caret::varImp(model, scale=FALSE, threshold=10)\n",
    "    # print(importance)\n",
    "    vu$pltsize(8, 3)\n",
    "    plt <- ggplot(importance) + ggtitle(paste(\"Relative variable importance\", model_name))\n",
    "    print(plt)\n",
    "}\n",
    "\n"
   ]
  },
  {
   "cell_type": "markdown",
   "metadata": {},
   "source": [
    "# Recursive feature selection"
   ]
  },
  {
   "cell_type": "code",
   "execution_count": 140,
   "metadata": {},
   "outputs": [],
   "source": [
    "control <- rfeControl(functions=rfFuncs, method=\"cv\", number=10)\n",
    "results <- rfe(\n",
    "    Type~.,\n",
    "    data=wide_stones_df %>% dplyr::select(-nr),\n",
    "    sizes=1:nrow(wide_stones_df),\n",
    "    rfeControl=control\n",
    ")"
   ]
  },
  {
   "cell_type": "code",
   "execution_count": 141,
   "metadata": {},
   "outputs": [
    {
     "data": {
      "text/html": [
       "<table>\n",
       "<thead><tr><th scope=col>Overall</th><th scope=col>var</th><th scope=col>Variables</th><th scope=col>Resample</th></tr></thead>\n",
       "<tbody>\n",
       "\t<tr><td>32.74598</td><td>Mg      </td><td>9       </td><td>Fold01  </td></tr>\n",
       "\t<tr><td>20.08889</td><td>RI      </td><td>9       </td><td>Fold01  </td></tr>\n",
       "\t<tr><td>15.87244</td><td>Ba      </td><td>9       </td><td>Fold01  </td></tr>\n",
       "\t<tr><td>15.81187</td><td>Al      </td><td>9       </td><td>Fold01  </td></tr>\n",
       "\t<tr><td>15.28305</td><td>Na      </td><td>9       </td><td>Fold01  </td></tr>\n",
       "\t<tr><td>15.15894</td><td>Ca      </td><td>9       </td><td>Fold01  </td></tr>\n",
       "</tbody>\n",
       "</table>\n"
      ],
      "text/latex": [
       "\\begin{tabular}{r|llll}\n",
       " Overall & var & Variables & Resample\\\\\n",
       "\\hline\n",
       "\t 32.74598 & Mg       & 9        & Fold01  \\\\\n",
       "\t 20.08889 & RI       & 9        & Fold01  \\\\\n",
       "\t 15.87244 & Ba       & 9        & Fold01  \\\\\n",
       "\t 15.81187 & Al       & 9        & Fold01  \\\\\n",
       "\t 15.28305 & Na       & 9        & Fold01  \\\\\n",
       "\t 15.15894 & Ca       & 9        & Fold01  \\\\\n",
       "\\end{tabular}\n"
      ],
      "text/markdown": [
       "\n",
       "Overall | var | Variables | Resample | \n",
       "|---|---|---|---|---|---|\n",
       "| 32.74598 | Mg       | 9        | Fold01   | \n",
       "| 20.08889 | RI       | 9        | Fold01   | \n",
       "| 15.87244 | Ba       | 9        | Fold01   | \n",
       "| 15.81187 | Al       | 9        | Fold01   | \n",
       "| 15.28305 | Na       | 9        | Fold01   | \n",
       "| 15.15894 | Ca       | 9        | Fold01   | \n",
       "\n",
       "\n"
      ],
      "text/plain": [
       "  Overall  var Variables Resample\n",
       "1 32.74598 Mg  9         Fold01  \n",
       "2 20.08889 RI  9         Fold01  \n",
       "3 15.87244 Ba  9         Fold01  \n",
       "4 15.81187 Al  9         Fold01  \n",
       "5 15.28305 Na  9         Fold01  \n",
       "6 15.15894 Ca  9         Fold01  "
      ]
     },
     "metadata": {},
     "output_type": "display_data"
    }
   ],
   "source": [
    "head(results$variables)"
   ]
  },
  {
   "cell_type": "code",
   "execution_count": 143,
   "metadata": {},
   "outputs": [
    {
     "data": {},
     "metadata": {},
     "output_type": "display_data"
    },
    {
     "data": {
      "image/png": "[encoded data removed]",
      "text/plain": [
       "plot without title"
      ]
     },
     "metadata": {},
     "output_type": "display_data"
    }
   ],
   "source": [
    "pred_subset <- predictors(results)\n",
    "ggplot(results) + ggtitle(\"Cross validation results for variable inclusion, linear regression\")"
   ]
  }
 ],
 "metadata": {
  "kernelspec": {
   "display_name": "R",
   "language": "R",
   "name": "ir"
  },
  "language_info": {
   "codemirror_mode": "r",
   "file_extension": ".r",
   "mimetype": "text/x-r-source",
   "name": "R",
   "pygments_lexer": "r",
   "version": "3.5.1"
  }
 },
 "nbformat": 4,
 "nbformat_minor": 2
}
